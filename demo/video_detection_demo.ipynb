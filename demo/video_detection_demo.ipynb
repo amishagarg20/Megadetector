{
 "cells": [
  {
   "cell_type": "markdown",
   "id": "33adcdb3",
   "metadata": {},
   "source": [
    "# Video Detection Demo with PytorchWildlife"
   ]
  },
  {
   "cell_type": "markdown",
   "id": "c534c504",
   "metadata": {},
   "source": [
    "This tutorial guides you on how to use PyTorchWildlife for video detection and classification. We will go through the process of setting up the environment, defining the detection and classification models, as well as performing inference and saving the results in an annotated video.\n",
    "\n",
    "## Prerequisites\n",
    "Install PytorchWildlife running the following commands:\n",
    "```bash\n",
    "conda create -n pytorch_wildlife python=3.8 -y\n",
    "conda activate pytorch_wildlife\n",
    "pip install PytorchWildlife\n",
    "```\n",
    "Also, make sure you have a CUDA-capable GPU if you intend to run the model on a GPU. This notebook can also run on CPU.\n",
    "\n",
    "## Importing libraries\n",
    "First, let's import the necessary libraries and modules."
   ]
  },
  {
   "cell_type": "code",
   "execution_count": 17,
   "id": "a28c392c",
   "metadata": {},
   "outputs": [],
   "source": [
    "from PIL import Image\n",
    "import numpy as np\n",
    "import supervision as sv\n",
    "import torch\n",
    "from PytorchWildlife.models import detection as pw_detection\n",
    "from PytorchWildlife.models import classification as pw_classification\n",
    "from PytorchWildlife.data import transforms as pw_trans\n",
    "from PytorchWildlife import utils as pw_utils"
   ]
  },
  {
   "cell_type": "code",
   "execution_count": 18,
   "id": "94426a82-ac31-4d04-8f97-9a343dec138f",
   "metadata": {},
   "outputs": [
    {
     "name": "stdout",
     "output_type": "stream",
     "text": [
      "c17_23_09_01_00_00.mp4\n",
      "c17_23_09_02_00_00.mp4\n",
      "c17_23_10_19_00_00.mp4\n",
      "c17_23_10_20_00_00.mp4\n",
      "c17_23_10_21_00_00.mp4\n",
      "['c17_23_09_01_00_00.mp4', 'c17_23_09_02_00_00.mp4', 'c17_23_10_19_00_00.mp4', 'c17_23_10_20_00_00.mp4', 'c17_23_10_21_00_00.mp4']\n",
      "https://clarksonmsda.org/datafiles/video_detection/c17_23_09_01_00_00.mp4\n",
      "demo_data/videos_raw/c17_23_09_01_00_00.mp4\n",
      "Downloaded: c17_23_09_01_00_00.mp4 to demo_data/videos_raw/c17_23_09_01_00_00.mp4\n",
      "https://clarksonmsda.org/datafiles/video_detection/c17_23_09_02_00_00.mp4\n",
      "demo_data/videos_raw/c17_23_09_02_00_00.mp4\n",
      "Downloaded: c17_23_09_02_00_00.mp4 to demo_data/videos_raw/c17_23_09_02_00_00.mp4\n",
      "https://clarksonmsda.org/datafiles/video_detection/c17_23_10_19_00_00.mp4\n",
      "demo_data/videos_raw/c17_23_10_19_00_00.mp4\n",
      "Downloaded: c17_23_10_19_00_00.mp4 to demo_data/videos_raw/c17_23_10_19_00_00.mp4\n",
      "https://clarksonmsda.org/datafiles/video_detection/c17_23_10_20_00_00.mp4\n",
      "demo_data/videos_raw/c17_23_10_20_00_00.mp4\n",
      "Downloaded: c17_23_10_20_00_00.mp4 to demo_data/videos_raw/c17_23_10_20_00_00.mp4\n",
      "https://clarksonmsda.org/datafiles/video_detection/c17_23_10_21_00_00.mp4\n",
      "demo_data/videos_raw/c17_23_10_21_00_00.mp4\n",
      "Downloaded: c17_23_10_21_00_00.mp4 to demo_data/videos_raw/c17_23_10_21_00_00.mp4\n",
      "Download process completed.\n"
     ]
    }
   ],
   "source": [
    "import os\n",
    "import requests\n",
    "from bs4 import BeautifulSoup\n",
    "\n",
    "url_prefix = \"https://clarksonmsda.org/datafiles/video_detection/\"\n",
    "local_folder = \"demo_data/videos_raw/\"\n",
    "\n",
    "# Create a folder to store downloaded files if it doesn't exist\n",
    "os.makedirs(local_folder, exist_ok=True)\n",
    "os.makedirs('demo_data/videos_processed/', exist_ok=True)\n",
    "\n",
    "# Fetch the list of files from the server\n",
    "response = requests.get(url_prefix)\n",
    "links = []\n",
    "if response.status_code == 200:\n",
    "    soup = BeautifulSoup(response.text, 'html.parser')\n",
    "    for table in soup.find_all('table'):\n",
    "        for td in table.find_all(\"a\", href = True):\n",
    "            #print(td.text)\n",
    "            if td.text.endswith('.mp4'):\n",
    "                print(td.text)\n",
    "                links.append(td.text)\n",
    "\n",
    "    print(links)\n",
    "    for link in links:\n",
    "        file_url = url_prefix + link\n",
    "        file_name = link.rstrip('/')\n",
    "        local_path = os.path.join(local_folder, file_name)\n",
    "        print(file_url)\n",
    "        print(local_path)\n",
    "        # Download the file\n",
    "        response = requests.get(file_url)\n",
    "        if response.status_code == 200:\n",
    "            with open(local_path, 'wb') as file:\n",
    "                file.write(response.content)\n",
    "            print(f\"Downloaded: {file_name} to {local_path}\")\n",
    "        else:\n",
    "            print(f\"Failed to download: {file_name}. Status code: {response.status_code}\")\n",
    "\n",
    "    print(\"Download process completed.\")\n",
    "else:\n",
    "    print(f\"Failed to fetch file list. Status code: {response.status_code}\")"
   ]
  },
  {
   "cell_type": "code",
   "execution_count": 19,
   "id": "ca51d35d-f9f0-4608-b388-e5b087a2d339",
   "metadata": {},
   "outputs": [
    {
     "name": "stdout",
     "output_type": "stream",
     "text": [
      "demo_data/videos_raw/c17_23_09_02_00_00.mp4\n",
      "demo_data/videos_processedc17_23_09_02_00_00_processeed.MP4\n",
      "demo_data/videos_raw/c17_23_10_21_00_00.mp4\n",
      "demo_data/videos_processedc17_23_10_21_00_00_processeed.MP4\n",
      "demo_data/videos_raw/c17_23_10_19_00_00.mp4\n",
      "demo_data/videos_processedc17_23_10_19_00_00_processeed.MP4\n",
      "demo_data/videos_raw/c17_23_10_20_00_00.mp4\n",
      "demo_data/videos_processedc17_23_10_20_00_00_processeed.MP4\n",
      "demo_data/videos_raw/c17_23_09_01_00_00.mp4\n",
      "demo_data/videos_processedc17_23_09_01_00_00_processeed.MP4\n"
     ]
    }
   ],
   "source": [
    "import os\n",
    "for vid in os.listdir(local_folder):\n",
    "    if vid.endswith('.mp4') or vid.endswith('.MP4'):\n",
    "        SOURCE_VIDEO_PATH = local_folder + vid\n",
    "        TARGET_VIDEO_PATH = 'demo_data/videos_processed' + vid.split('.')[0]+'_processeed.MP4'\n",
    "        print(SOURCE_VIDEO_PATH) \n",
    "        print(TARGET_VIDEO_PATH)\n",
    "        \n",
    "        \n",
    "    "
   ]
  },
  {
   "cell_type": "markdown",
   "id": "a1d72019",
   "metadata": {},
   "source": [
    "## Setting GPU\n",
    "If you are using a GPU for this exercise, please specify which GPU to use for the computations. By default, GPU number 0 is used. Adjust this as per your setup. You don't need to run this cell if you are using a CPU."
   ]
  },
  {
   "cell_type": "code",
   "execution_count": 20,
   "id": "24b2cf06",
   "metadata": {},
   "outputs": [],
   "source": [
    "torch.cuda.set_device(0) # Use only if you are running on GPU"
   ]
  },
  {
   "cell_type": "code",
   "execution_count": 21,
   "id": "ca5c4a3c-1a27-429e-8f5b-59aff5ea407b",
   "metadata": {},
   "outputs": [
    {
     "name": "stdout",
     "output_type": "stream",
     "text": [
      "demo_data/videos_raw/c17_23_09_02_00_00.mp4\n",
      "demo_data/videos_processed/c17_23_09_02_00_00_processeed.MP4\n"
     ]
    },
    {
     "name": "stderr",
     "output_type": "stream",
     "text": [
      "Fusing layers... \n",
      "Fusing layers... \n",
      "Model summary: 733 layers, 140054656 parameters, 0 gradients, 208.8 GFLOPs\n",
      "Model summary: 733 layers, 140054656 parameters, 0 gradients, 208.8 GFLOPs\n",
      "100%|█████████████████████████████████████████| 642/642 [03:03<00:00,  3.49it/s]\n"
     ]
    },
    {
     "name": "stdout",
     "output_type": "stream",
     "text": [
      "demo_data/videos_raw/c17_23_10_21_00_00.mp4\n",
      "demo_data/videos_processed/c17_23_10_21_00_00_processeed.MP4\n"
     ]
    },
    {
     "name": "stderr",
     "output_type": "stream",
     "text": [
      "Fusing layers... \n",
      "Fusing layers... \n",
      "Model summary: 733 layers, 140054656 parameters, 0 gradients, 208.8 GFLOPs\n",
      "Model summary: 733 layers, 140054656 parameters, 0 gradients, 208.8 GFLOPs\n",
      "100%|█████████████████████████████████████████| 131/131 [00:37<00:00,  3.48it/s]\n"
     ]
    },
    {
     "name": "stdout",
     "output_type": "stream",
     "text": [
      "demo_data/videos_raw/c17_23_10_19_00_00.mp4\n",
      "demo_data/videos_processed/c17_23_10_19_00_00_processeed.MP4\n"
     ]
    },
    {
     "name": "stderr",
     "output_type": "stream",
     "text": [
      "Fusing layers... \n",
      "Fusing layers... \n",
      "Model summary: 733 layers, 140054656 parameters, 0 gradients, 208.8 GFLOPs\n",
      "Model summary: 733 layers, 140054656 parameters, 0 gradients, 208.8 GFLOPs\n",
      "100%|█████████████████████████████████████████| 595/595 [02:49<00:00,  3.50it/s]\n"
     ]
    },
    {
     "name": "stdout",
     "output_type": "stream",
     "text": [
      "demo_data/videos_raw/c17_23_10_20_00_00.mp4\n",
      "demo_data/videos_processed/c17_23_10_20_00_00_processeed.MP4\n"
     ]
    },
    {
     "name": "stderr",
     "output_type": "stream",
     "text": [
      "Fusing layers... \n",
      "Fusing layers... \n",
      "Model summary: 733 layers, 140054656 parameters, 0 gradients, 208.8 GFLOPs\n",
      "Model summary: 733 layers, 140054656 parameters, 0 gradients, 208.8 GFLOPs\n",
      "260it [01:13,  3.53it/s]                                                        \n"
     ]
    },
    {
     "name": "stdout",
     "output_type": "stream",
     "text": [
      "demo_data/videos_raw/c17_23_09_01_00_00.mp4\n",
      "demo_data/videos_processed/c17_23_09_01_00_00_processeed.MP4\n"
     ]
    },
    {
     "name": "stderr",
     "output_type": "stream",
     "text": [
      "Fusing layers... \n",
      "Fusing layers... \n",
      "Model summary: 733 layers, 140054656 parameters, 0 gradients, 208.8 GFLOPs\n",
      "Model summary: 733 layers, 140054656 parameters, 0 gradients, 208.8 GFLOPs\n",
      "643it [03:06,  3.45it/s]                                                        \n"
     ]
    }
   ],
   "source": [
    "DEVICE = \"cuda\" # Use \"cuda\" if you are running on GPU. Use \"cpu\" if you are running on CPU\n",
    "\n",
    "def callback(frame: np.ndarray, index: int) -> np.ndarray:\n",
    "    results_det = detection_model.single_image_detection(trans_det(frame), frame.shape, index)\n",
    "    labels = []\n",
    "    for xyxy in results_det[\"detections\"].xyxy:\n",
    "        cropped_image = sv.crop_image(image=frame, xyxy=xyxy)\n",
    "        results_clf = classification_model.single_image_classification(trans_clf(Image.fromarray(cropped_image)))\n",
    "        labels.append(\"{} {:.2f}\".format(results_clf[\"prediction\"], results_clf[\"confidence\"]))\n",
    "    annotated_frame = box_annotator.annotate(scene=frame, detections=results_det[\"detections\"], labels=labels)\n",
    "    return annotated_frame \n",
    "\n",
    "import os\n",
    "for vid in os.listdir(local_folder):\n",
    "    if vid.endswith('.mp4') or vid.endswith('.MP4'):\n",
    "        SOURCE_VIDEO_PATH = local_folder + vid\n",
    "        TARGET_VIDEO_PATH = 'demo_data/videos_processed/' + vid.split('.')[0]+'_processeed.MP4'\n",
    "        print(SOURCE_VIDEO_PATH) \n",
    "        print(TARGET_VIDEO_PATH)\n",
    "\n",
    "        detection_model = pw_detection.MegaDetectorV5(device=DEVICE, pretrained=True)\n",
    "        classification_model = pw_classification.AI4GAmazonRainforest(device=DEVICE, pretrained=True)\n",
    "        trans_det = pw_trans.MegaDetector_v5_Transform(target_size=detection_model.IMAGE_SIZE,\n",
    "                                               stride=detection_model.STRIDE)\n",
    "        trans_clf = pw_trans.Classification_Inference_Transform(target_size=224)\n",
    "        box_annotator = sv.BoxAnnotator(thickness=4, text_thickness=4, text_scale=2)\n",
    "\n",
    "        pw_utils.process_video(source_path=SOURCE_VIDEO_PATH, target_path=TARGET_VIDEO_PATH, callback=callback, target_fps=5)"
   ]
  },
  {
   "cell_type": "markdown",
   "id": "802747c2",
   "metadata": {},
   "source": [
    "## Model Initialization\n",
    "We'll  define the device to run the models and then we will initialize the models for both video detection and classification."
   ]
  },
  {
   "cell_type": "code",
   "execution_count": 22,
   "id": "dd069110",
   "metadata": {},
   "outputs": [
    {
     "name": "stderr",
     "output_type": "stream",
     "text": [
      "Fusing layers... \n",
      "Fusing layers... \n",
      "Model summary: 733 layers, 140054656 parameters, 0 gradients, 208.8 GFLOPs\n",
      "Model summary: 733 layers, 140054656 parameters, 0 gradients, 208.8 GFLOPs\n"
     ]
    }
   ],
   "source": [
    "DEVICE = \"cuda\" # Use \"cuda\" if you are running on GPU. Use \"cpu\" if you are running on CPU\n",
    " \n",
    "SOURCE_VIDEO_PATH = \"./demo_data/videos/opossum_example.MP4\"\n",
    "TARGET_VIDEO_PATH = \"./demo_data/videos/opossum_example_processed.MP4\"\n",
    "detection_model = pw_detection.MegaDetectorV5(device=DEVICE, pretrained=True)\n",
    "classification_model = pw_classification.AI4GOpossum(device=DEVICE, pretrained=True)"
   ]
  },
  {
   "cell_type": "markdown",
   "id": "fa4913d8",
   "metadata": {},
   "source": [
    "## Transformations\n",
    "Define transformations for both detection and classification. These transformations preprocess the video frames for the models."
   ]
  },
  {
   "cell_type": "code",
   "execution_count": 23,
   "id": "cc6377ee",
   "metadata": {},
   "outputs": [],
   "source": [
    "trans_det = pw_trans.MegaDetector_v5_Transform(target_size=detection_model.IMAGE_SIZE,\n",
    "                                               stride=detection_model.STRIDE)\n",
    "trans_clf = pw_trans.Classification_Inference_Transform(target_size=224)"
   ]
  },
  {
   "cell_type": "markdown",
   "id": "3cd6262a",
   "metadata": {},
   "source": [
    "## Video Processing\n",
    "For each frame in the video, we'll apply detection and classification, and then annotate the frame with the results. The processed video will be saved with annotated detections and classifications."
   ]
  },
  {
   "cell_type": "code",
   "execution_count": 24,
   "id": "e6147a40",
   "metadata": {},
   "outputs": [
    {
     "name": "stderr",
     "output_type": "stream",
     "text": [
      "100%|█████████████████████████████████████████| 100/100 [00:27<00:00,  3.63it/s]\n"
     ]
    }
   ],
   "source": [
    "box_annotator = sv.BoxAnnotator(thickness=4, text_thickness=4, text_scale=2)\n",
    "\n",
    "def callback(frame: np.ndarray, index: int) -> np.ndarray:\n",
    "    results_det = detection_model.single_image_detection(trans_det(frame), frame.shape, index)\n",
    "    labels = []\n",
    "    for xyxy in results_det[\"detections\"].xyxy:\n",
    "        cropped_image = sv.crop_image(image=frame, xyxy=xyxy)\n",
    "        results_clf = classification_model.single_image_classification(trans_clf(Image.fromarray(cropped_image)))\n",
    "        labels.append(\"{} {:.2f}\".format(results_clf[\"prediction\"], results_clf[\"confidence\"]))\n",
    "    annotated_frame = box_annotator.annotate(scene=frame, detections=results_det[\"detections\"], labels=labels)\n",
    "    return annotated_frame \n",
    "\n",
    "pw_utils.process_video(source_path=SOURCE_VIDEO_PATH, target_path=TARGET_VIDEO_PATH, callback=callback, target_fps=5)"
   ]
  },
  {
   "cell_type": "markdown",
   "id": "8e270f0f",
   "metadata": {},
   "source": [
    "### Copyright (c) Microsoft Corporation. All rights reserved.\n",
    "### Licensed under the MIT License."
   ]
  },
  {
   "cell_type": "code",
   "execution_count": null,
   "id": "1b09f81d-9de5-45e6-a796-daf4716944a6",
   "metadata": {},
   "outputs": [],
   "source": []
  },
  {
   "cell_type": "code",
   "execution_count": null,
   "id": "a66d34e7-af55-4c33-9cb5-3b3d96bd24d4",
   "metadata": {},
   "outputs": [],
   "source": []
  },
  {
   "cell_type": "code",
   "execution_count": null,
   "id": "1be3df0c-db08-4673-9ab9-a1fbdfab9e34",
   "metadata": {},
   "outputs": [],
   "source": []
  }
 ],
 "metadata": {
  "kernelspec": {
   "display_name": "Python 3 (ipykernel)",
   "language": "python",
   "name": "python3"
  },
  "language_info": {
   "codemirror_mode": {
    "name": "ipython",
    "version": 3
   },
   "file_extension": ".py",
   "mimetype": "text/x-python",
   "name": "python",
   "nbconvert_exporter": "python",
   "pygments_lexer": "ipython3",
   "version": "3.8.10"
  }
 },
 "nbformat": 4,
 "nbformat_minor": 5
}
